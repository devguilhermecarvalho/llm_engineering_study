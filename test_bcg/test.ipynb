{
 "cells": [
  {
   "cell_type": "code",
   "execution_count": 1,
   "id": "6ef67956",
   "metadata": {},
   "outputs": [],
   "source": [
    "import pandas as pd\n",
    "from concurrent.futures import ProcessPoolExecutor"
   ]
  },
  {
   "cell_type": "code",
   "execution_count": 2,
   "id": "3a061ca8",
   "metadata": {},
   "outputs": [],
   "source": [
    "path_dataframes = 'data/'\n",
    "list_dataframes = [\n",
    "    'clientes.csv',\n",
    "    'itens_pedido.csv',\n",
    "    'pagamentos.csv',\n",
    "    'pedidos.csv',\n",
    "    'produtos.csv'\n",
    "]"
   ]
  },
  {
   "cell_type": "code",
   "execution_count": null,
   "id": "8b6f31ab",
   "metadata": {},
   "outputs": [
    {
     "name": "stdout",
     "output_type": "stream",
     "text": [
      "DataFrame: clientes.csv\n",
      "10000\n",
      "DataFrame: itens_pedido.csv\n",
      "150000\n",
      "DataFrame: pagamentos.csv\n",
      "65000\n",
      "DataFrame: pedidos.csv\n",
      "60000\n",
      "DataFrame: produtos.csv\n",
      "500\n"
     ]
    }
   ],
   "source": [
    "def load_dataframe(file_name):\n",
    "    df = pd.read_csv(file_name)\n",
    "    return df\n",
    "\n",
    "full_paths = [path_dataframes + file for file in list_dataframes]\n",
    "\n",
    "# Coletar todos os DataFrames em paralelo\n",
    "with ProcessPoolExecutor() as executor:\n",
    "    dfs = list(executor.map(load_dataframe, full_paths))\n",
    "\n",
    "# Exibir cada DataFrame com display()\n",
    "for df, file_name in zip(dfs, list_dataframes):\n",
    "    print(f\"DataFrame: {file_name}\")\n",
    "    print(len(df))"
   ]
  },
  {
   "cell_type": "code",
   "execution_count": 3,
   "id": "9f121cf1",
   "metadata": {},
   "outputs": [
    {
     "name": "stdout",
     "output_type": "stream",
     "text": [
      "DataFrame: 10000\n",
      "DataFrame: 150000\n",
      "DataFrame: 65000\n",
      "DataFrame: 60000\n",
      "DataFrame: 500\n"
     ]
    }
   ],
   "source": [
    "for dataframes in list_dataframes:\n",
    "    dfs = pd.read_csv(path_dataframes + dataframes)\n",
    "    print(f\"DataFrame: {len(dfs)}\")"
   ]
  }
 ],
 "metadata": {
  "kernelspec": {
   "display_name": "venv",
   "language": "python",
   "name": "python3"
  },
  "language_info": {
   "codemirror_mode": {
    "name": "ipython",
    "version": 3
   },
   "file_extension": ".py",
   "mimetype": "text/x-python",
   "name": "python",
   "nbconvert_exporter": "python",
   "pygments_lexer": "ipython3",
   "version": "3.12.3"
  }
 },
 "nbformat": 4,
 "nbformat_minor": 5
}
